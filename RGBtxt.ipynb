{
 "cells": [
  {
   "cell_type": "code",
   "execution_count": null,
   "metadata": {},
   "outputs": [],
   "source": [
    "# Para obtener imagen en collab. Reemplazar URL por imagen a gusto.\n",
    "#import urllib\n",
    "#from PIL import Image\n",
    "#import os\n",
    "#url = \"https://devblogs.nvidia.com/wp-content/uploads/2012/10/CUDA_Cube_1K.jpg\"\n",
    "#urllib.request.urlretrieve(url, \"img.jpg\")\n",
    "#img = Image.open(r'img.jpg')\n",
    "#img.save(r'imgG.png')\n",
    "#img = img.resize((img.size[0]//10, img.size[1]//10), Image.LANCZOS)\n",
    "#img.save(r'imgP.png')\n",
    "#os.remove(\"img.jpg\")"
   ]
  },
  {
   "cell_type": "code",
   "execution_count": 1,
   "metadata": {},
   "outputs": [],
   "source": [
    "import matplotlib.pyplot as mpimg\n",
    "import numpy as np\n",
    "\n",
    "def RGBtoTXT(name):\n",
    "    img = mpimg.imread(name+'.png')\n",
    "    M,N,_ = img.shape\n",
    "    RGB = np.array([img[:,:,i].reshape(M*N) for i in range(3)])\n",
    "    np.savetxt(name+'.txt', RGB, fmt='%.8f', delimiter=' ', header='%d %d'%(M,N), comments='')\n",
    "\n",
    "def TXTtoRGB(name):\n",
    "    RGB = np.loadtxt(name+'.txt', delimiter=' ', skiprows = 1)\n",
    "    with open(name+'.txt') as imgfile:\n",
    "        M,N = map(int,imgfile.readline().strip().split())\n",
    "    img = np.ones((M,N,4))\n",
    "    for i in range(3):\n",
    "        img[:,:,i] = RGB[i].reshape((M,N)) \n",
    "    mpimg.imsave(name+'_fromfile.png', img)"
   ]
  },
  {
   "cell_type": "code",
   "execution_count": null,
   "metadata": {},
   "outputs": [],
   "source": [
    "# Utilizar nombres sin extension\n",
    "# Solo se aceptan imagenes en formato png\n",
    "# Generar archivos de texto:\n",
    "# RGBtoTXT('imgG')\n",
    "# RGBtoTXT('imgP')"
   ]
  },
  {
   "cell_type": "code",
   "execution_count": 5,
   "metadata": {},
   "outputs": [],
   "source": [
    "# Utilizar nombres sin extension\n",
    "\n",
    "# Generar imagenes\n",
    "#TXTtoRGB('imgGCPU')\n",
    "TXTtoRGB('images6CPU')\n",
    "TXTtoRGB('images6GPU')\n",
    "\n",
    "for i in range(6):\n",
    "    TXTtoRGB(f'images{i+1}CPU')\n",
    "    TXTtoRGB(f'images{i+1}GPU')"
   ]
  }
 ],
 "metadata": {
  "kernelspec": {
   "display_name": "Python 3",
   "language": "python",
   "name": "python3"
  },
  "language_info": {
   "codemirror_mode": {
    "name": "ipython",
    "version": 3
   },
   "file_extension": ".py",
   "mimetype": "text/x-python",
   "name": "python",
   "nbconvert_exporter": "python",
   "pygments_lexer": "ipython3",
   "version": "3.13.2"
  }
 },
 "nbformat": 4,
 "nbformat_minor": 4
}
